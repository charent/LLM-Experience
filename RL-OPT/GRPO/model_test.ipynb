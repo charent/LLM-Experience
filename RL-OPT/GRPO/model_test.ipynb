{
 "cells": [
  {
   "cell_type": "code",
   "execution_count": null,
   "metadata": {},
   "outputs": [],
   "source": [
    "from transformers import AutoModelForCausalLM, AutoTokenizer, Qwen2ForCausalLM\n",
    "from transformers.generation import GenerationConfig"
   ]
  },
  {
   "cell_type": "code",
   "execution_count": null,
   "metadata": {},
   "outputs": [],
   "source": [
    "model_path = 'output_models/Qwen2-0.5B-GRPO/checkpoint-200'\n",
    "model: Qwen2ForCausalLM = AutoModelForCausalLM.from_pretrained(model_path)\n",
    "tokenizer = AutoTokenizer.from_pretrained(model_path)"
   ]
  },
  {
   "cell_type": "code",
   "execution_count": null,
   "metadata": {},
   "outputs": [],
   "source": [
    "SYS_PROMPT = '''\\\n",
    "你是一个输出思考过程的人工智能助手。输出必须遵循以下格式：\n",
    "<think>\n",
    "在这里输出思考过程。\n",
    "</think>\n",
    "<answer>\n",
    "在这里输出最终答案。\n",
    "</answer>\n",
    "'''\n",
    "\n",
    "gen_config = GenerationConfig(max_new_tokens=512, do_sample=False)\n",
    "question = '你是谁'\n",
    "\n",
    "input_text = tokenizer.apply_chat_template([{\"role\": \"system\", \"content\": SYS_PROMPT}, {\"role\": \"user\", \"content\": str(question)}], tokenize=False, add_generation_prompt=True)\n",
    "inputs = tokenizer(input_text, return_tensors='pt')\n",
    "input_text"
   ]
  },
  {
   "cell_type": "code",
   "execution_count": null,
   "metadata": {},
   "outputs": [],
   "source": [
    "output_ids = model.generate(**inputs, generation_config=gen_config)\n"
   ]
  },
  {
   "cell_type": "code",
   "execution_count": null,
   "metadata": {},
   "outputs": [],
   "source": [
    "print(tokenizer.decode(output_ids[0][len(inputs['input_ids'][0]): ], skip_special_tokens=True))"
   ]
  }
 ],
 "metadata": {
  "kernelspec": {
   "display_name": "py312",
   "language": "python",
   "name": "python3"
  },
  "language_info": {
   "codemirror_mode": {
    "name": "ipython",
    "version": 3
   },
   "file_extension": ".py",
   "mimetype": "text/x-python",
   "name": "python",
   "nbconvert_exporter": "python",
   "pygments_lexer": "ipython3",
   "version": "3.12.8"
  }
 },
 "nbformat": 4,
 "nbformat_minor": 2
}
